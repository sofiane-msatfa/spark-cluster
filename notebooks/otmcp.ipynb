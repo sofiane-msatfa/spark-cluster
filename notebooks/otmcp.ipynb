{
 "cells": [
  {
   "cell_type": "code",
   "execution_count": 1,
   "metadata": {},
   "outputs": [
    {
     "name": "stdout",
     "output_type": "stream",
     "text": [
      "Requirement already satisfied: pandas in /usr/local/lib/python3.10/dist-packages (2.2.3)\n",
      "Requirement already satisfied: numpy>=1.22.4 in /usr/local/lib/python3.10/dist-packages (from pandas) (2.1.2)\n",
      "Requirement already satisfied: tzdata>=2022.7 in /usr/local/lib/python3.10/dist-packages (from pandas) (2024.2)\n",
      "Requirement already satisfied: python-dateutil>=2.8.2 in /usr/local/lib/python3.10/dist-packages (from pandas) (2.9.0.post0)\n",
      "Requirement already satisfied: pytz>=2020.1 in /usr/local/lib/python3.10/dist-packages (from pandas) (2024.2)\n",
      "Requirement already satisfied: six>=1.5 in /usr/local/lib/python3.10/dist-packages (from python-dateutil>=2.8.2->pandas) (1.16.0)\n",
      "\u001b[33mWARNING: Running pip as the 'root' user can result in broken permissions and conflicting behaviour with the system package manager. It is recommended to use a virtual environment instead: https://pip.pypa.io/warnings/venv\u001b[0m\u001b[33m\n",
      "\u001b[0mNote: you may need to restart the kernel to use updated packages.\n"
     ]
    }
   ],
   "source": [
    "pip install pandas"
   ]
  },
  {
   "cell_type": "code",
   "execution_count": 2,
   "metadata": {},
   "outputs": [],
   "source": [
    "# Importer les bibliothèques\n",
    "import os\n",
    "import duckdb\n",
    "import subprocess\n",
    "import pandas as pd"
   ]
  },
  {
   "cell_type": "code",
   "execution_count": 3,
   "metadata": {},
   "outputs": [],
   "source": [
    "# Fonction pour lister les fichiers dans HDFS\n",
    "def list_hdfs_files(path):\n",
    "    print(f\"Listing HDFS files in path: {path}\")\n",
    "    \n",
    "    # Exécuter la commande HDFS et capturer la sortie\n",
    "    result = subprocess.run(['hdfs', 'dfs', '-ls', path], stdout=subprocess.PIPE, stderr=subprocess.PIPE, text=True)\n",
    "    \n",
    "    # Vérifier s'il y a une erreur\n",
    "    if result.returncode != 0:\n",
    "        print(f\"Erreur lors de l'exécution de la commande HDFS: {result.stderr}\")\n",
    "        return []\n",
    "\n",
    "    print(\"Commande HDFS exécutée avec succès.\")\n",
    "    \n",
    "    files = []\n",
    "    # Parcourir la sortie de la commande pour trouver les fichiers CSV correspondants\n",
    "    for line in result.stdout.split('\\n'):\n",
    "        print(f\"Analyzing line: {line}\")  # Debug pour voir chaque ligne retournée\n",
    "        if \"On_Time_Marketing_Carrier_On_Time_Performance\" in line and line.endswith(\".csv\"):\n",
    "            file_path = line.split()[-1]  # Récupérer le chemin complet du fichier\n",
    "            files.append(file_path)\n",
    "            print(f\"File found: {file_path}\")  # Debug pour voir chaque fichier trouvé\n",
    "\n",
    "    return files"
   ]
  },
  {
   "cell_type": "code",
   "execution_count": 4,
   "metadata": {},
   "outputs": [
    {
     "name": "stdout",
     "output_type": "stream",
     "text": [
      "Listing HDFS files in path: /data\n",
      "Commande HDFS exécutée avec succès.\n",
      "Analyzing line: Found 67 items\n",
      "Analyzing line: drwxr-xr-x   - root supergroup          0 2024-10-19 21:14 /data/2019_01\n",
      "Analyzing line: drwxr-xr-x   - root supergroup          0 2024-10-19 21:14 /data/2019_02\n",
      "Analyzing line: drwxr-xr-x   - root supergroup          0 2024-10-19 21:14 /data/2019_03\n",
      "Analyzing line: drwxr-xr-x   - root supergroup          0 2024-10-19 21:14 /data/2019_04\n",
      "Analyzing line: drwxr-xr-x   - root supergroup          0 2024-10-19 21:14 /data/2019_05\n",
      "Analyzing line: drwxr-xr-x   - root supergroup          0 2024-10-19 21:14 /data/2019_06\n",
      "Analyzing line: drwxr-xr-x   - root supergroup          0 2024-10-19 21:14 /data/2019_07\n",
      "Analyzing line: drwxr-xr-x   - root supergroup          0 2024-10-19 21:14 /data/2019_08\n",
      "Analyzing line: drwxr-xr-x   - root supergroup          0 2024-10-19 21:14 /data/2019_09\n",
      "Analyzing line: drwxr-xr-x   - root supergroup          0 2024-10-19 21:14 /data/2019_10\n",
      "Analyzing line: drwxr-xr-x   - root supergroup          0 2024-10-19 21:14 /data/2019_11\n",
      "Analyzing line: drwxr-xr-x   - root supergroup          0 2024-10-19 21:14 /data/2019_12\n",
      "Analyzing line: drwxr-xr-x   - root supergroup          0 2024-10-19 21:15 /data/2020_01\n",
      "Analyzing line: drwxr-xr-x   - root supergroup          0 2024-10-19 21:15 /data/2020_02\n",
      "Analyzing line: drwxr-xr-x   - root supergroup          0 2024-10-19 21:15 /data/2020_03\n",
      "Analyzing line: drwxr-xr-x   - root supergroup          0 2024-10-19 21:15 /data/2020_04\n",
      "Analyzing line: drwxr-xr-x   - root supergroup          0 2024-10-19 21:15 /data/2020_05\n",
      "Analyzing line: drwxr-xr-x   - root supergroup          0 2024-10-19 21:15 /data/2020_06\n",
      "Analyzing line: drwxr-xr-x   - root supergroup          0 2024-10-19 21:15 /data/2020_07\n",
      "Analyzing line: drwxr-xr-x   - root supergroup          0 2024-10-19 21:15 /data/2020_08\n",
      "Analyzing line: drwxr-xr-x   - root supergroup          0 2024-10-19 21:15 /data/2020_09\n",
      "Analyzing line: drwxr-xr-x   - root supergroup          0 2024-10-19 21:15 /data/2020_10\n",
      "Analyzing line: drwxr-xr-x   - root supergroup          0 2024-10-19 21:15 /data/2020_11\n",
      "Analyzing line: drwxr-xr-x   - root supergroup          0 2024-10-19 21:15 /data/2020_12\n",
      "Analyzing line: drwxr-xr-x   - root supergroup          0 2024-10-19 21:16 /data/2021_01\n",
      "Analyzing line: drwxr-xr-x   - root supergroup          0 2024-10-19 21:16 /data/2021_02\n",
      "Analyzing line: drwxr-xr-x   - root supergroup          0 2024-10-19 21:16 /data/2021_03\n",
      "Analyzing line: drwxr-xr-x   - root supergroup          0 2024-10-19 21:16 /data/2021_04\n",
      "Analyzing line: drwxr-xr-x   - root supergroup          0 2024-10-19 21:16 /data/2021_05\n",
      "Analyzing line: drwxr-xr-x   - root supergroup          0 2024-10-19 21:16 /data/2021_06\n",
      "Analyzing line: drwxr-xr-x   - root supergroup          0 2024-10-19 21:16 /data/2021_07\n",
      "Analyzing line: drwxr-xr-x   - root supergroup          0 2024-10-19 21:16 /data/2021_08\n",
      "Analyzing line: drwxr-xr-x   - root supergroup          0 2024-10-19 21:16 /data/2021_09\n",
      "Analyzing line: drwxr-xr-x   - root supergroup          0 2024-10-19 21:16 /data/2021_10\n",
      "Analyzing line: drwxr-xr-x   - root supergroup          0 2024-10-19 21:16 /data/2021_11\n",
      "Analyzing line: drwxr-xr-x   - root supergroup          0 2024-10-19 21:16 /data/2021_12\n",
      "Analyzing line: drwxr-xr-x   - root supergroup          0 2024-10-19 21:17 /data/2022_01\n",
      "Analyzing line: drwxr-xr-x   - root supergroup          0 2024-10-19 21:17 /data/2022_02\n",
      "Analyzing line: drwxr-xr-x   - root supergroup          0 2024-10-19 21:17 /data/2022_03\n",
      "Analyzing line: drwxr-xr-x   - root supergroup          0 2024-10-19 21:17 /data/2022_04\n",
      "Analyzing line: drwxr-xr-x   - root supergroup          0 2024-10-19 21:17 /data/2022_05\n",
      "Analyzing line: drwxr-xr-x   - root supergroup          0 2024-10-19 21:17 /data/2022_06\n",
      "Analyzing line: drwxr-xr-x   - root supergroup          0 2024-10-19 21:17 /data/2022_07\n",
      "Analyzing line: drwxr-xr-x   - root supergroup          0 2024-10-19 21:17 /data/2022_08\n",
      "Analyzing line: drwxr-xr-x   - root supergroup          0 2024-10-19 21:17 /data/2022_09\n",
      "Analyzing line: drwxr-xr-x   - root supergroup          0 2024-10-19 21:17 /data/2022_10\n",
      "Analyzing line: drwxr-xr-x   - root supergroup          0 2024-10-19 21:17 /data/2022_11\n",
      "Analyzing line: drwxr-xr-x   - root supergroup          0 2024-10-19 21:17 /data/2022_12\n",
      "Analyzing line: drwxr-xr-x   - root supergroup          0 2024-10-19 21:18 /data/2023_01\n",
      "Analyzing line: drwxr-xr-x   - root supergroup          0 2024-10-19 21:18 /data/2023_02\n",
      "Analyzing line: drwxr-xr-x   - root supergroup          0 2024-10-19 21:18 /data/2023_03\n",
      "Analyzing line: drwxr-xr-x   - root supergroup          0 2024-10-19 21:18 /data/2023_04\n",
      "Analyzing line: drwxr-xr-x   - root supergroup          0 2024-10-19 21:18 /data/2023_05\n",
      "Analyzing line: drwxr-xr-x   - root supergroup          0 2024-10-19 21:18 /data/2023_06\n",
      "Analyzing line: drwxr-xr-x   - root supergroup          0 2024-10-19 21:18 /data/2023_07\n",
      "Analyzing line: drwxr-xr-x   - root supergroup          0 2024-10-19 21:18 /data/2023_08\n",
      "Analyzing line: drwxr-xr-x   - root supergroup          0 2024-10-19 21:18 /data/2023_09\n",
      "Analyzing line: drwxr-xr-x   - root supergroup          0 2024-10-19 21:17 /data/2023_10\n",
      "Analyzing line: drwxr-xr-x   - root supergroup          0 2024-10-19 21:18 /data/2023_11\n",
      "Analyzing line: drwxr-xr-x   - root supergroup          0 2024-10-19 21:18 /data/2023_12\n",
      "Analyzing line: drwxr-xr-x   - root supergroup          0 2024-10-19 21:18 /data/2024_01\n",
      "Analyzing line: drwxr-xr-x   - root supergroup          0 2024-10-19 21:19 /data/2024_02\n",
      "Analyzing line: drwxr-xr-x   - root supergroup          0 2024-10-19 21:19 /data/2024_03\n",
      "Analyzing line: drwxr-xr-x   - root supergroup          0 2024-10-19 21:19 /data/2024_04\n",
      "Analyzing line: drwxr-xr-x   - root supergroup          0 2024-10-19 21:19 /data/2024_05\n",
      "Analyzing line: drwxr-xr-x   - root supergroup          0 2024-10-19 21:19 /data/2024_06\n",
      "Analyzing line: drwxr-xr-x   - root supergroup          0 2024-10-19 21:19 /data/2024_07\n",
      "Analyzing line: \n",
      "Fichiers trouvés : []\n"
     ]
    }
   ],
   "source": [
    "# Lister les fichiers dans /data\n",
    "hdfs_path = \"/data\"\n",
    "files = list_hdfs_files(hdfs_path)\n",
    "\n",
    "print(f\"Fichiers trouvés : {files}\")"
   ]
  },
  {
   "cell_type": "code",
   "execution_count": 5,
   "metadata": {},
   "outputs": [],
   "source": [
    "from pyspark.sql import SparkSession\n",
    "from pyspark.sql.types import *\n",
    "from pyspark.sql import functions as F\n",
    "from pyspark.sql.types import TimestampType\n",
    "from pyspark.sql.functions import udf\n",
    "from pyspark.sql.window import Window\n",
    "from pyspark.sql.types import *\n",
    "from pyspark.sql.functions import to_timestamp, col"
   ]
  },
  {
   "cell_type": "code",
   "execution_count": 6,
   "metadata": {},
   "outputs": [
    {
     "name": "stderr",
     "output_type": "stream",
     "text": [
      "Setting default log level to \"WARN\".\n",
      "To adjust logging level use sc.setLogLevel(newLevel). For SparkR, use setLogLevel(newLevel).\n"
     ]
    },
    {
     "data": {
      "text/html": [
       "\n",
       "            <div>\n",
       "                <p><b>SparkSession - in-memory</b></p>\n",
       "                \n",
       "        <div>\n",
       "            <p><b>SparkContext</b></p>\n",
       "\n",
       "            <p><a href=\"http://hadoop-namenode:4040\">Spark UI</a></p>\n",
       "\n",
       "            <dl>\n",
       "              <dt>Version</dt>\n",
       "                <dd><code>v3.4.3</code></dd>\n",
       "              <dt>Master</dt>\n",
       "                <dd><code>local[*]</code></dd>\n",
       "              <dt>AppName</dt>\n",
       "                <dd><code>FlightDataAnalysis</code></dd>\n",
       "            </dl>\n",
       "        </div>\n",
       "        \n",
       "            </div>\n",
       "        "
      ],
      "text/plain": [
       "<pyspark.sql.session.SparkSession at 0x7f2ccadf02b0>"
      ]
     },
     "execution_count": 6,
     "metadata": {},
     "output_type": "execute_result"
    }
   ],
   "source": [
    "    # Créer une session Spark\n",
    "    spark = SparkSession.builder \\\n",
    "        .appName(\"FlightDataAnalysis\") \\\n",
    "        .config(\"spark.hadoop.fs.defaultFS\", \"hdfs://hadoop-namenode:9000\") \\\n",
    "        .getOrCreate()\n",
    "    \n",
    "    # Vérifier que la session Spark fonctionne bien\n",
    "    spark"
   ]
  },
  {
   "cell_type": "code",
   "execution_count": 7,
   "metadata": {},
   "outputs": [
    {
     "name": "stderr",
     "output_type": "stream",
     "text": [
      "                                                                                \r"
     ]
    },
    {
     "name": "stdout",
     "output_type": "stream",
     "text": [
      "root\n",
      " |-- Year: integer (nullable = true)\n",
      " |-- Quarter: integer (nullable = true)\n",
      " |-- Month: integer (nullable = true)\n",
      " |-- DayofMonth: integer (nullable = true)\n",
      " |-- DayOfWeek: integer (nullable = true)\n",
      " |-- FlightDate: date (nullable = true)\n",
      " |-- Marketing_Airline_Network: string (nullable = true)\n",
      " |-- Operated_or_Branded_Code_Share_Partners: string (nullable = true)\n",
      " |-- DOT_ID_Marketing_Airline: integer (nullable = true)\n",
      " |-- IATA_Code_Marketing_Airline: string (nullable = true)\n",
      " |-- Flight_Number_Marketing_Airline: integer (nullable = true)\n",
      " |-- Originally_Scheduled_Code_Share_Airline: string (nullable = true)\n",
      " |-- DOT_ID_Originally_Scheduled_Code_Share_Airline: integer (nullable = true)\n",
      " |-- IATA_Code_Originally_Scheduled_Code_Share_Airline: string (nullable = true)\n",
      " |-- Flight_Num_Originally_Scheduled_Code_Share_Airline: integer (nullable = true)\n",
      " |-- Operating_Airline : string (nullable = true)\n",
      " |-- DOT_ID_Operating_Airline: integer (nullable = true)\n",
      " |-- IATA_Code_Operating_Airline: string (nullable = true)\n",
      " |-- Tail_Number: string (nullable = true)\n",
      " |-- Flight_Number_Operating_Airline: integer (nullable = true)\n",
      " |-- OriginAirportID: integer (nullable = true)\n",
      " |-- OriginAirportSeqID: integer (nullable = true)\n",
      " |-- OriginCityMarketID: integer (nullable = true)\n",
      " |-- Origin: string (nullable = true)\n",
      " |-- OriginCityName: string (nullable = true)\n",
      " |-- OriginState: string (nullable = true)\n",
      " |-- OriginStateFips: integer (nullable = true)\n",
      " |-- OriginStateName: string (nullable = true)\n",
      " |-- OriginWac: integer (nullable = true)\n",
      " |-- DestAirportID: integer (nullable = true)\n",
      " |-- DestAirportSeqID: integer (nullable = true)\n",
      " |-- DestCityMarketID: integer (nullable = true)\n",
      " |-- Dest: string (nullable = true)\n",
      " |-- DestCityName: string (nullable = true)\n",
      " |-- DestState: string (nullable = true)\n",
      " |-- DestStateFips: integer (nullable = true)\n",
      " |-- DestStateName: string (nullable = true)\n",
      " |-- DestWac: integer (nullable = true)\n",
      " |-- CRSDepTime: integer (nullable = true)\n",
      " |-- DepTime: integer (nullable = true)\n",
      " |-- DepDelay: double (nullable = true)\n",
      " |-- DepDelayMinutes: double (nullable = true)\n",
      " |-- DepDel15: double (nullable = true)\n",
      " |-- DepartureDelayGroups: integer (nullable = true)\n",
      " |-- DepTimeBlk: string (nullable = true)\n",
      " |-- TaxiOut: double (nullable = true)\n",
      " |-- WheelsOff: integer (nullable = true)\n",
      " |-- WheelsOn: integer (nullable = true)\n",
      " |-- TaxiIn: double (nullable = true)\n",
      " |-- CRSArrTime: integer (nullable = true)\n",
      " |-- ArrTime: integer (nullable = true)\n",
      " |-- ArrDelay: double (nullable = true)\n",
      " |-- ArrDelayMinutes: double (nullable = true)\n",
      " |-- ArrDel15: double (nullable = true)\n",
      " |-- ArrivalDelayGroups: integer (nullable = true)\n",
      " |-- ArrTimeBlk: string (nullable = true)\n",
      " |-- Cancelled: double (nullable = true)\n",
      " |-- CancellationCode: string (nullable = true)\n",
      " |-- Diverted: double (nullable = true)\n",
      " |-- CRSElapsedTime: double (nullable = true)\n",
      " |-- ActualElapsedTime: double (nullable = true)\n",
      " |-- AirTime: double (nullable = true)\n",
      " |-- Flights: double (nullable = true)\n",
      " |-- Distance: double (nullable = true)\n",
      " |-- DistanceGroup: integer (nullable = true)\n",
      " |-- CarrierDelay: double (nullable = true)\n",
      " |-- WeatherDelay: double (nullable = true)\n",
      " |-- NASDelay: double (nullable = true)\n",
      " |-- SecurityDelay: double (nullable = true)\n",
      " |-- LateAircraftDelay: double (nullable = true)\n",
      " |-- FirstDepTime: integer (nullable = true)\n",
      " |-- TotalAddGTime: double (nullable = true)\n",
      " |-- LongestAddGTime: double (nullable = true)\n",
      " |-- DivAirportLandings: integer (nullable = true)\n",
      " |-- DivReachedDest: double (nullable = true)\n",
      " |-- DivActualElapsedTime: double (nullable = true)\n",
      " |-- DivArrDelay: double (nullable = true)\n",
      " |-- DivDistance: double (nullable = true)\n",
      " |-- Div1Airport: string (nullable = true)\n",
      " |-- Div1AirportID: integer (nullable = true)\n",
      " |-- Div1AirportSeqID: integer (nullable = true)\n",
      " |-- Div1WheelsOn: integer (nullable = true)\n",
      " |-- Div1TotalGTime: double (nullable = true)\n",
      " |-- Div1LongestGTime: double (nullable = true)\n",
      " |-- Div1WheelsOff: integer (nullable = true)\n",
      " |-- Div1TailNum: string (nullable = true)\n",
      " |-- Div2Airport: string (nullable = true)\n",
      " |-- Div2AirportID: integer (nullable = true)\n",
      " |-- Div2AirportSeqID: integer (nullable = true)\n",
      " |-- Div2WheelsOn: integer (nullable = true)\n",
      " |-- Div2TotalGTime: double (nullable = true)\n",
      " |-- Div2LongestGTime: double (nullable = true)\n",
      " |-- Div2WheelsOff: integer (nullable = true)\n",
      " |-- Div2TailNum: string (nullable = true)\n",
      " |-- Div3Airport: string (nullable = true)\n",
      " |-- Div3AirportID: integer (nullable = true)\n",
      " |-- Div3AirportSeqID: integer (nullable = true)\n",
      " |-- Div3WheelsOn: integer (nullable = true)\n",
      " |-- Div3TotalGTime: double (nullable = true)\n",
      " |-- Div3LongestGTime: double (nullable = true)\n",
      " |-- Div3WheelsOff: string (nullable = true)\n",
      " |-- Div3TailNum: string (nullable = true)\n",
      " |-- Div4Airport: string (nullable = true)\n",
      " |-- Div4AirportID: string (nullable = true)\n",
      " |-- Div4AirportSeqID: string (nullable = true)\n",
      " |-- Div4WheelsOn: string (nullable = true)\n",
      " |-- Div4TotalGTime: string (nullable = true)\n",
      " |-- Div4LongestGTime: string (nullable = true)\n",
      " |-- Div4WheelsOff: string (nullable = true)\n",
      " |-- Div4TailNum: string (nullable = true)\n",
      " |-- Div5Airport: string (nullable = true)\n",
      " |-- Div5AirportID: string (nullable = true)\n",
      " |-- Div5AirportSeqID: string (nullable = true)\n",
      " |-- Div5WheelsOn: string (nullable = true)\n",
      " |-- Div5TotalGTime: string (nullable = true)\n",
      " |-- Div5LongestGTime: string (nullable = true)\n",
      " |-- Div5WheelsOff: string (nullable = true)\n",
      " |-- Div5TailNum: string (nullable = true)\n",
      " |-- Duplicate: string (nullable = true)\n",
      " |-- _c119: string (nullable = true)\n",
      "\n"
     ]
    },
    {
     "name": "stderr",
     "output_type": "stream",
     "text": [
      "24/10/20 00:24:24 WARN package: Truncated the string representation of a plan since it was too large. This behavior can be adjusted by setting 'spark.sql.debug.maxToStringFields'.\n",
      "24/10/20 00:24:25 WARN CSVHeaderChecker: CSV header does not conform to the schema.\n",
      " Header: Year, Quarter, Month, DayofMonth, DayOfWeek, FlightDate, Marketing_Airline_Network, Operated_or_Branded_Code_Share_Partners, DOT_ID_Marketing_Airline, IATA_Code_Marketing_Airline, Flight_Number_Marketing_Airline, Originally_Scheduled_Code_Share_Airline, DOT_ID_Originally_Scheduled_Code_Share_Airline, IATA_Code_Originally_Scheduled_Code_Share_Airline, Flight_Num_Originally_Scheduled_Code_Share_Airline, Operating_Airline , DOT_ID_Operating_Airline, IATA_Code_Operating_Airline, Tail_Number, Flight_Number_Operating_Airline, OriginAirportID, OriginAirportSeqID, OriginCityMarketID, Origin, OriginCityName, OriginState, OriginStateFips, OriginStateName, OriginWac, DestAirportID, DestAirportSeqID, DestCityMarketID, Dest, DestCityName, DestState, DestStateFips, DestStateName, DestWac, CRSDepTime, DepTime, DepDelay, DepDelayMinutes, DepDel15, DepartureDelayGroups, DepTimeBlk, TaxiOut, WheelsOff, WheelsOn, TaxiIn, CRSArrTime, ArrTime, ArrDelay, ArrDelayMinutes, ArrDel15, ArrivalDelayGroups, ArrTimeBlk, Cancelled, CancellationCode, Diverted, CRSElapsedTime, ActualElapsedTime, AirTime, Flights, Distance, DistanceGroup, CarrierDelay, WeatherDelay, NASDelay, SecurityDelay, LateAircraftDelay, FirstDepTime, TotalAddGTime, LongestAddGTime, DivAirportLandings, DivReachedDest, DivActualElapsedTime, DivArrDelay, DivDistance, Div1Airport, Div1AirportID, Div1AirportSeqID, Div1WheelsOn, Div1TotalGTime, Div1LongestGTime, Div1WheelsOff, Div1TailNum, Div2Airport, Div2AirportID, Div2AirportSeqID, Div2WheelsOn, Div2TotalGTime, Div2LongestGTime, Div2WheelsOff, Div2TailNum, Div3Airport, Div3AirportID, Div3AirportSeqID, Div3WheelsOn, Div3TotalGTime, Div3LongestGTime, Div3WheelsOff, Div3TailNum, Div4Airport, Div4AirportID, Div4AirportSeqID, Div4WheelsOn, Div4TotalGTime, Div4LongestGTime, Div4WheelsOff, Div4TailNum, Div5Airport, Div5AirportID, Div5AirportSeqID, Div5WheelsOn, Div5TotalGTime, Div5LongestGTime, Div5WheelsOff, Div5TailNum, Duplicate, \n",
      " Schema: Year, Quarter, Month, DayofMonth, DayOfWeek, FlightDate, Marketing_Airline_Network, Operated_or_Branded_Code_Share_Partners, DOT_ID_Marketing_Airline, IATA_Code_Marketing_Airline, Flight_Number_Marketing_Airline, Originally_Scheduled_Code_Share_Airline, DOT_ID_Originally_Scheduled_Code_Share_Airline, IATA_Code_Originally_Scheduled_Code_Share_Airline, Flight_Num_Originally_Scheduled_Code_Share_Airline, Operating_Airline , DOT_ID_Operating_Airline, IATA_Code_Operating_Airline, Tail_Number, Flight_Number_Operating_Airline, OriginAirportID, OriginAirportSeqID, OriginCityMarketID, Origin, OriginCityName, OriginState, OriginStateFips, OriginStateName, OriginWac, DestAirportID, DestAirportSeqID, DestCityMarketID, Dest, DestCityName, DestState, DestStateFips, DestStateName, DestWac, CRSDepTime, DepTime, DepDelay, DepDelayMinutes, DepDel15, DepartureDelayGroups, DepTimeBlk, TaxiOut, WheelsOff, WheelsOn, TaxiIn, CRSArrTime, ArrTime, ArrDelay, ArrDelayMinutes, ArrDel15, ArrivalDelayGroups, ArrTimeBlk, Cancelled, CancellationCode, Diverted, CRSElapsedTime, ActualElapsedTime, AirTime, Flights, Distance, DistanceGroup, CarrierDelay, WeatherDelay, NASDelay, SecurityDelay, LateAircraftDelay, FirstDepTime, TotalAddGTime, LongestAddGTime, DivAirportLandings, DivReachedDest, DivActualElapsedTime, DivArrDelay, DivDistance, Div1Airport, Div1AirportID, Div1AirportSeqID, Div1WheelsOn, Div1TotalGTime, Div1LongestGTime, Div1WheelsOff, Div1TailNum, Div2Airport, Div2AirportID, Div2AirportSeqID, Div2WheelsOn, Div2TotalGTime, Div2LongestGTime, Div2WheelsOff, Div2TailNum, Div3Airport, Div3AirportID, Div3AirportSeqID, Div3WheelsOn, Div3TotalGTime, Div3LongestGTime, Div3WheelsOff, Div3TailNum, Div4Airport, Div4AirportID, Div4AirportSeqID, Div4WheelsOn, Div4TotalGTime, Div4LongestGTime, Div4WheelsOff, Div4TailNum, Div5Airport, Div5AirportID, Div5AirportSeqID, Div5WheelsOn, Div5TotalGTime, Div5LongestGTime, Div5WheelsOff, Div5TailNum, Duplicate, _c119\n",
      "Expected: _c119 but found: \n",
      "CSV file: hdfs://hadoop-namenode:9000/data/2019_01/On_Time_Marketing_Carrier_On_Time_Performance_Beginning_January_2018_2019_1.csv\n",
      "                                                                                \r"
     ]
    },
    {
     "name": "stdout",
     "output_type": "stream",
     "text": [
      "+----+-------+-----+----------+---------+----------+-------------------------+---------------------------------------+------------------------+---------------------------+-------------------------------+---------------------------------------+----------------------------------------------+-------------------------------------------------+--------------------------------------------------+------------------+------------------------+---------------------------+-----------+-------------------------------+---------------+------------------+------------------+------+-------------------+-----------+---------------+---------------+---------+-------------+----------------+----------------+----+-----------------+---------+-------------+-------------+-------+----------+-------+--------+---------------+--------+--------------------+----------+-------+---------+--------+------+----------+-------+--------+---------------+--------+------------------+----------+---------+----------------+--------+--------------+-----------------+-------+-------+--------+-------------+------------+------------+--------+-------------+-----------------+------------+-------------+---------------+------------------+--------------+--------------------+-----------+-----------+-----------+-------------+----------------+------------+--------------+----------------+-------------+-----------+-----------+-------------+----------------+------------+--------------+----------------+-------------+-----------+-----------+-------------+----------------+------------+--------------+----------------+-------------+-----------+-----------+-------------+----------------+------------+--------------+----------------+-------------+-----------+-----------+-------------+----------------+------------+--------------+----------------+-------------+-----------+---------+-----+\n",
      "|Year|Quarter|Month|DayofMonth|DayOfWeek|FlightDate|Marketing_Airline_Network|Operated_or_Branded_Code_Share_Partners|DOT_ID_Marketing_Airline|IATA_Code_Marketing_Airline|Flight_Number_Marketing_Airline|Originally_Scheduled_Code_Share_Airline|DOT_ID_Originally_Scheduled_Code_Share_Airline|IATA_Code_Originally_Scheduled_Code_Share_Airline|Flight_Num_Originally_Scheduled_Code_Share_Airline|Operating_Airline |DOT_ID_Operating_Airline|IATA_Code_Operating_Airline|Tail_Number|Flight_Number_Operating_Airline|OriginAirportID|OriginAirportSeqID|OriginCityMarketID|Origin|     OriginCityName|OriginState|OriginStateFips|OriginStateName|OriginWac|DestAirportID|DestAirportSeqID|DestCityMarketID|Dest|     DestCityName|DestState|DestStateFips|DestStateName|DestWac|CRSDepTime|DepTime|DepDelay|DepDelayMinutes|DepDel15|DepartureDelayGroups|DepTimeBlk|TaxiOut|WheelsOff|WheelsOn|TaxiIn|CRSArrTime|ArrTime|ArrDelay|ArrDelayMinutes|ArrDel15|ArrivalDelayGroups|ArrTimeBlk|Cancelled|CancellationCode|Diverted|CRSElapsedTime|ActualElapsedTime|AirTime|Flights|Distance|DistanceGroup|CarrierDelay|WeatherDelay|NASDelay|SecurityDelay|LateAircraftDelay|FirstDepTime|TotalAddGTime|LongestAddGTime|DivAirportLandings|DivReachedDest|DivActualElapsedTime|DivArrDelay|DivDistance|Div1Airport|Div1AirportID|Div1AirportSeqID|Div1WheelsOn|Div1TotalGTime|Div1LongestGTime|Div1WheelsOff|Div1TailNum|Div2Airport|Div2AirportID|Div2AirportSeqID|Div2WheelsOn|Div2TotalGTime|Div2LongestGTime|Div2WheelsOff|Div2TailNum|Div3Airport|Div3AirportID|Div3AirportSeqID|Div3WheelsOn|Div3TotalGTime|Div3LongestGTime|Div3WheelsOff|Div3TailNum|Div4Airport|Div4AirportID|Div4AirportSeqID|Div4WheelsOn|Div4TotalGTime|Div4LongestGTime|Div4WheelsOff|Div4TailNum|Div5Airport|Div5AirportID|Div5AirportSeqID|Div5WheelsOn|Div5TotalGTime|Div5LongestGTime|Div5WheelsOff|Div5TailNum|Duplicate|_c119|\n",
      "+----+-------+-----+----------+---------+----------+-------------------------+---------------------------------------+------------------------+---------------------------+-------------------------------+---------------------------------------+----------------------------------------------+-------------------------------------------------+--------------------------------------------------+------------------+------------------------+---------------------------+-----------+-------------------------------+---------------+------------------+------------------+------+-------------------+-----------+---------------+---------------+---------+-------------+----------------+----------------+----+-----------------+---------+-------------+-------------+-------+----------+-------+--------+---------------+--------+--------------------+----------+-------+---------+--------+------+----------+-------+--------+---------------+--------+------------------+----------+---------+----------------+--------+--------------+-----------------+-------+-------+--------+-------------+------------+------------+--------+-------------+-----------------+------------+-------------+---------------+------------------+--------------+--------------------+-----------+-----------+-----------+-------------+----------------+------------+--------------+----------------+-------------+-----------+-----------+-------------+----------------+------------+--------------+----------------+-------------+-----------+-----------+-------------+----------------+------------+--------------+----------------+-------------+-----------+-----------+-------------+----------------+------------+--------------+----------------+-------------+-----------+-----------+-------------+----------------+------------+--------------+----------------+-------------+-----------+---------+-----+\n",
      "|2019|      1|    1|         4|        5|2019-01-04|                       UA|                           UA_CODESHARE|                   19977|                         UA|                           5657|                                   null|                                          null|                                             null|                                              null|                OO|                   20304|                         OO|     N945SW|                           5657|          14698|           1469802|             34236|   SBP|San Luis Obispo, CA|         CA|              6|     California|       91|        14771|         1477104|           32457| SFO|San Francisco, CA|       CA|            6|   California|     91|      1400|   1353|    -7.0|            0.0|     0.0|                  -1| 1400-1459|    9.0|     1402|    1439|   5.0|      1510|   1444|   -26.0|            0.0|     0.0|                -2| 1500-1559|      0.0|            null|     0.0|          70.0|             51.0|   37.0|    1.0|   190.0|            1|        null|        null|    null|         null|             null|        null|         null|           null|                 0|          null|                null|       null|       null|       null|         null|            null|        null|          null|            null|         null|       null|       null|         null|            null|        null|          null|            null|         null|       null|       null|         null|            null|        null|          null|            null|         null|       null|       null|         null|            null|        null|          null|            null|         null|       null|       null|         null|            null|        null|          null|            null|         null|       null|        N| null|\n",
      "|2019|      1|    1|         4|        5|2019-01-04|                       UA|                           UA_CODESHARE|                   19977|                         UA|                           5658|                                   null|                                          null|                                             null|                                              null|                OO|                   20304|                         OO|     N932SW|                           5658|          12266|           1226603|             31453|   IAH|        Houston, TX|         TX|             48|          Texas|       74|        15919|         1591904|           31834| XNA| Fayetteville, AR|       AR|            5|     Arkansas|     71|       935|    930|    -5.0|            0.0|     0.0|                  -1| 0900-0959|   27.0|      957|    1113|   6.0|      1118|   1119|     1.0|            1.0|     0.0|                 0| 1100-1159|      0.0|            null|     0.0|         103.0|            109.0|   76.0|    1.0|   438.0|            2|        null|        null|    null|         null|             null|        null|         null|           null|                 0|          null|                null|       null|       null|       null|         null|            null|        null|          null|            null|         null|       null|       null|         null|            null|        null|          null|            null|         null|       null|       null|         null|            null|        null|          null|            null|         null|       null|       null|         null|            null|        null|          null|            null|         null|       null|       null|         null|            null|        null|          null|            null|         null|       null|        N| null|\n",
      "|2019|      1|    1|         4|        5|2019-01-04|                       UA|                           UA_CODESHARE|                   19977|                         UA|                           5658|                                   null|                                          null|                                             null|                                              null|                OO|                   20304|                         OO|     N932SW|                           5658|          14783|           1478302|             34783|   SGF|    Springfield, MO|         MO|             29|       Missouri|       64|        12266|         1226603|           31453| IAH|      Houston, TX|       TX|           48|        Texas|     74|       643|    637|    -6.0|            0.0|     0.0|                  -1| 0600-0659|   17.0|      654|     822|  16.0|       855|    838|   -17.0|            0.0|     0.0|                -2| 0800-0859|      0.0|            null|     0.0|         132.0|            121.0|   88.0|    1.0|   513.0|            3|        null|        null|    null|         null|             null|        null|         null|           null|                 0|          null|                null|       null|       null|       null|         null|            null|        null|          null|            null|         null|       null|       null|         null|            null|        null|          null|            null|         null|       null|       null|         null|            null|        null|          null|            null|         null|       null|       null|         null|            null|        null|          null|            null|         null|       null|       null|         null|            null|        null|          null|            null|         null|       null|        N| null|\n",
      "|2019|      1|    1|         4|        5|2019-01-04|                       UA|                           UA_CODESHARE|                   19977|                         UA|                           5659|                                   null|                                          null|                                             null|                                              null|                OO|                   20304|                         OO|     N916SW|                           5659|          12389|           1238902|             32389|   ISN|      Williston, ND|         ND|             38|   North Dakota|       66|        11292|         1129202|           30325| DEN|       Denver, CO|       CO|            8|     Colorado|     82|      1335|   1314|   -21.0|            0.0|     0.0|                  -2| 1300-1359|   23.0|     1337|    1357|   7.0|      1433|   1404|   -29.0|            0.0|     0.0|                -2| 1400-1459|      0.0|            null|     0.0|         118.0|            110.0|   80.0|    1.0|   576.0|            3|        null|        null|    null|         null|             null|        null|         null|           null|                 0|          null|                null|       null|       null|       null|         null|            null|        null|          null|            null|         null|       null|       null|         null|            null|        null|          null|            null|         null|       null|       null|         null|            null|        null|          null|            null|         null|       null|       null|         null|            null|        null|          null|            null|         null|       null|       null|         null|            null|        null|          null|            null|         null|       null|        N| null|\n",
      "|2019|      1|    1|         4|        5|2019-01-04|                       UA|                           UA_CODESHARE|                   19977|                         UA|                           5660|                                   null|                                          null|                                             null|                                              null|                OO|                   20304|                         OO|     N107SY|                           5660|          13342|           1334207|             33342|   MKE|      Milwaukee, WI|         WI|             55|      Wisconsin|       45|        11292|         1129202|           30325| DEN|       Denver, CO|       CO|            8|     Colorado|     82|       836|    826|   -10.0|            0.0|     0.0|                  -1| 0800-0859|   26.0|      852|     959|  10.0|      1040|   1009|   -31.0|            0.0|     0.0|                -2| 1000-1059|      0.0|            null|     0.0|         184.0|            163.0|  127.0|    1.0|   896.0|            4|        null|        null|    null|         null|             null|        null|         null|           null|                 0|          null|                null|       null|       null|       null|         null|            null|        null|          null|            null|         null|       null|       null|         null|            null|        null|          null|            null|         null|       null|       null|         null|            null|        null|          null|            null|         null|       null|       null|         null|            null|        null|          null|            null|         null|       null|       null|         null|            null|        null|          null|            null|         null|       null|        N| null|\n",
      "+----+-------+-----+----------+---------+----------+-------------------------+---------------------------------------+------------------------+---------------------------+-------------------------------+---------------------------------------+----------------------------------------------+-------------------------------------------------+--------------------------------------------------+------------------+------------------------+---------------------------+-----------+-------------------------------+---------------+------------------+------------------+------+-------------------+-----------+---------------+---------------+---------+-------------+----------------+----------------+----+-----------------+---------+-------------+-------------+-------+----------+-------+--------+---------------+--------+--------------------+----------+-------+---------+--------+------+----------+-------+--------+---------------+--------+------------------+----------+---------+----------------+--------+--------------+-----------------+-------+-------+--------+-------------+------------+------------+--------+-------------+-----------------+------------+-------------+---------------+------------------+--------------+--------------------+-----------+-----------+-----------+-------------+----------------+------------+--------------+----------------+-------------+-----------+-----------+-------------+----------------+------------+--------------+----------------+-------------+-----------+-----------+-------------+----------------+------------+--------------+----------------+-------------+-----------+-----------+-------------+----------------+------------+--------------+----------------+-------------+-----------+-----------+-------------+----------------+------------+--------------+----------------+-------------+-----------+---------+-----+\n",
      "only showing top 5 rows\n",
      "\n"
     ]
    }
   ],
   "source": [
    "# Définir le chemin des fichiers CSV dans HDFS\n",
    "path = \"hdfs://hadoop-namenode:9000/data/2019_01/On_Time_Marketing_Carrier_On_Time_Performance*.csv\"\n",
    "\n",
    "# Lire les fichiers CSV avec Spark\n",
    "flight_data_df = spark.read.format(\"csv\").option(\"header\", \"true\").load(path, inferSchema=True)\n",
    "\n",
    "# Afficher le schéma des données\n",
    "flight_data_df.printSchema()\n",
    "\n",
    "# Afficher les premières lignes\n",
    "flight_data_df.show(5)"
   ]
  },
  {
   "cell_type": "code",
   "execution_count": 8,
   "metadata": {},
   "outputs": [
    {
     "name": "stderr",
     "output_type": "stream",
     "text": [
      "24/10/20 00:24:26 WARN CSVHeaderChecker: CSV header does not conform to the schema.\n",
      " Header: Year, Quarter, Month, DayofMonth, DayOfWeek, FlightDate, Marketing_Airline_Network, Operated_or_Branded_Code_Share_Partners, DOT_ID_Marketing_Airline, IATA_Code_Marketing_Airline, Flight_Number_Marketing_Airline, Originally_Scheduled_Code_Share_Airline, DOT_ID_Originally_Scheduled_Code_Share_Airline, IATA_Code_Originally_Scheduled_Code_Share_Airline, Flight_Num_Originally_Scheduled_Code_Share_Airline, Operating_Airline , DOT_ID_Operating_Airline, IATA_Code_Operating_Airline, Tail_Number, Flight_Number_Operating_Airline, OriginAirportID, OriginAirportSeqID, OriginCityMarketID, Origin, OriginCityName, OriginState, OriginStateFips, OriginStateName, OriginWac, DestAirportID, DestAirportSeqID, DestCityMarketID, Dest, DestCityName, DestState, DestStateFips, DestStateName, DestWac, CRSDepTime, DepTime, DepDelay, DepDelayMinutes, DepDel15, DepartureDelayGroups, DepTimeBlk, TaxiOut, WheelsOff, WheelsOn, TaxiIn, CRSArrTime, ArrTime, ArrDelay, ArrDelayMinutes, ArrDel15, ArrivalDelayGroups, ArrTimeBlk, Cancelled, CancellationCode, Diverted, CRSElapsedTime, ActualElapsedTime, AirTime, Flights, Distance, DistanceGroup, CarrierDelay, WeatherDelay, NASDelay, SecurityDelay, LateAircraftDelay, FirstDepTime, TotalAddGTime, LongestAddGTime, DivAirportLandings, DivReachedDest, DivActualElapsedTime, DivArrDelay, DivDistance, Div1Airport, Div1AirportID, Div1AirportSeqID, Div1WheelsOn, Div1TotalGTime, Div1LongestGTime, Div1WheelsOff, Div1TailNum, Div2Airport, Div2AirportID, Div2AirportSeqID, Div2WheelsOn, Div2TotalGTime, Div2LongestGTime, Div2WheelsOff, Div2TailNum, Div3Airport, Div3AirportID, Div3AirportSeqID, Div3WheelsOn, Div3TotalGTime, Div3LongestGTime, Div3WheelsOff, Div3TailNum, Div4Airport, Div4AirportID, Div4AirportSeqID, Div4WheelsOn, Div4TotalGTime, Div4LongestGTime, Div4WheelsOff, Div4TailNum, Div5Airport, Div5AirportID, Div5AirportSeqID, Div5WheelsOn, Div5TotalGTime, Div5LongestGTime, Div5WheelsOff, Div5TailNum, Duplicate, \n",
      " Schema: Year, Quarter, Month, DayofMonth, DayOfWeek, FlightDate, Marketing_Airline_Network, Operated_or_Branded_Code_Share_Partners, DOT_ID_Marketing_Airline, IATA_Code_Marketing_Airline, Flight_Number_Marketing_Airline, Originally_Scheduled_Code_Share_Airline, DOT_ID_Originally_Scheduled_Code_Share_Airline, IATA_Code_Originally_Scheduled_Code_Share_Airline, Flight_Num_Originally_Scheduled_Code_Share_Airline, Operating_Airline , DOT_ID_Operating_Airline, IATA_Code_Operating_Airline, Tail_Number, Flight_Number_Operating_Airline, OriginAirportID, OriginAirportSeqID, OriginCityMarketID, Origin, OriginCityName, OriginState, OriginStateFips, OriginStateName, OriginWac, DestAirportID, DestAirportSeqID, DestCityMarketID, Dest, DestCityName, DestState, DestStateFips, DestStateName, DestWac, CRSDepTime, DepTime, DepDelay, DepDelayMinutes, DepDel15, DepartureDelayGroups, DepTimeBlk, TaxiOut, WheelsOff, WheelsOn, TaxiIn, CRSArrTime, ArrTime, ArrDelay, ArrDelayMinutes, ArrDel15, ArrivalDelayGroups, ArrTimeBlk, Cancelled, CancellationCode, Diverted, CRSElapsedTime, ActualElapsedTime, AirTime, Flights, Distance, DistanceGroup, CarrierDelay, WeatherDelay, NASDelay, SecurityDelay, LateAircraftDelay, FirstDepTime, TotalAddGTime, LongestAddGTime, DivAirportLandings, DivReachedDest, DivActualElapsedTime, DivArrDelay, DivDistance, Div1Airport, Div1AirportID, Div1AirportSeqID, Div1WheelsOn, Div1TotalGTime, Div1LongestGTime, Div1WheelsOff, Div1TailNum, Div2Airport, Div2AirportID, Div2AirportSeqID, Div2WheelsOn, Div2TotalGTime, Div2LongestGTime, Div2WheelsOff, Div2TailNum, Div3Airport, Div3AirportID, Div3AirportSeqID, Div3WheelsOn, Div3TotalGTime, Div3LongestGTime, Div3WheelsOff, Div3TailNum, Div4Airport, Div4AirportID, Div4AirportSeqID, Div4WheelsOn, Div4TotalGTime, Div4LongestGTime, Div4WheelsOff, Div4TailNum, Div5Airport, Div5AirportID, Div5AirportSeqID, Div5WheelsOn, Div5TotalGTime, Div5LongestGTime, Div5WheelsOff, Div5TailNum, Duplicate, _c119\n",
      "Expected: _c119 but found: \n",
      "CSV file: hdfs://hadoop-namenode:9000/data/2019_01/On_Time_Marketing_Carrier_On_Time_Performance_Beginning_January_2018_2019_1.csv\n",
      "[Stage 5:>                                                          (0 + 1) / 1]\r"
     ]
    },
    {
     "name": "stdout",
     "output_type": "stream",
     "text": [
      "+----+-------+-----+----------+---------+----------+-------------------------+---------------------------------------+------------------------+---------------------------+-------------------------------+---------------------------------------+----------------------------------------------+-------------------------------------------------+--------------------------------------------------+------------------+------------------------+---------------------------+-----------+-------------------------------+---------------+------------------+------------------+------+--------------------+-----------+---------------+---------------+---------+-------------+----------------+----------------+----+-------------------+---------+-------------+--------------+-------+----------+-------+--------+---------------+--------+--------------------+----------+-------+---------+--------+------+----------+-------+--------+---------------+--------+------------------+----------+---------+----------------+--------+--------------+-----------------+-------+-------+--------+-------------+------------+------------+--------+-------------+-----------------+------------+-------------+---------------+------------------+--------------+--------------------+-----------+-----------+-----------+-------------+----------------+------------+--------------+----------------+-------------+-----------+-----------+-------------+----------------+------------+--------------+----------------+-------------+-----------+-----------+-------------+----------------+------------+--------------+----------------+-------------+-----------+-----------+-------------+----------------+------------+--------------+----------------+-------------+-----------+-----------+-------------+----------------+------------+--------------+----------------+-------------+-----------+---------+-----+\n",
      "|Year|Quarter|Month|DayofMonth|DayOfWeek|FlightDate|Marketing_Airline_Network|Operated_or_Branded_Code_Share_Partners|DOT_ID_Marketing_Airline|IATA_Code_Marketing_Airline|Flight_Number_Marketing_Airline|Originally_Scheduled_Code_Share_Airline|DOT_ID_Originally_Scheduled_Code_Share_Airline|IATA_Code_Originally_Scheduled_Code_Share_Airline|Flight_Num_Originally_Scheduled_Code_Share_Airline|Operating_Airline |DOT_ID_Operating_Airline|IATA_Code_Operating_Airline|Tail_Number|Flight_Number_Operating_Airline|OriginAirportID|OriginAirportSeqID|OriginCityMarketID|Origin|      OriginCityName|OriginState|OriginStateFips|OriginStateName|OriginWac|DestAirportID|DestAirportSeqID|DestCityMarketID|Dest|       DestCityName|DestState|DestStateFips| DestStateName|DestWac|CRSDepTime|DepTime|DepDelay|DepDelayMinutes|DepDel15|DepartureDelayGroups|DepTimeBlk|TaxiOut|WheelsOff|WheelsOn|TaxiIn|CRSArrTime|ArrTime|ArrDelay|ArrDelayMinutes|ArrDel15|ArrivalDelayGroups|ArrTimeBlk|Cancelled|CancellationCode|Diverted|CRSElapsedTime|ActualElapsedTime|AirTime|Flights|Distance|DistanceGroup|CarrierDelay|WeatherDelay|NASDelay|SecurityDelay|LateAircraftDelay|FirstDepTime|TotalAddGTime|LongestAddGTime|DivAirportLandings|DivReachedDest|DivActualElapsedTime|DivArrDelay|DivDistance|Div1Airport|Div1AirportID|Div1AirportSeqID|Div1WheelsOn|Div1TotalGTime|Div1LongestGTime|Div1WheelsOff|Div1TailNum|Div2Airport|Div2AirportID|Div2AirportSeqID|Div2WheelsOn|Div2TotalGTime|Div2LongestGTime|Div2WheelsOff|Div2TailNum|Div3Airport|Div3AirportID|Div3AirportSeqID|Div3WheelsOn|Div3TotalGTime|Div3LongestGTime|Div3WheelsOff|Div3TailNum|Div4Airport|Div4AirportID|Div4AirportSeqID|Div4WheelsOn|Div4TotalGTime|Div4LongestGTime|Div4WheelsOff|Div4TailNum|Div5Airport|Div5AirportID|Div5AirportSeqID|Div5WheelsOn|Div5TotalGTime|Div5LongestGTime|Div5WheelsOff|Div5TailNum|Duplicate|_c119|\n",
      "+----+-------+-----+----------+---------+----------+-------------------------+---------------------------------------+------------------------+---------------------------+-------------------------------+---------------------------------------+----------------------------------------------+-------------------------------------------------+--------------------------------------------------+------------------+------------------------+---------------------------+-----------+-------------------------------+---------------+------------------+------------------+------+--------------------+-----------+---------------+---------------+---------+-------------+----------------+----------------+----+-------------------+---------+-------------+--------------+-------+----------+-------+--------+---------------+--------+--------------------+----------+-------+---------+--------+------+----------+-------+--------+---------------+--------+------------------+----------+---------+----------------+--------+--------------+-----------------+-------+-------+--------+-------------+------------+------------+--------+-------------+-----------------+------------+-------------+---------------+------------------+--------------+--------------------+-----------+-----------+-----------+-------------+----------------+------------+--------------+----------------+-------------+-----------+-----------+-------------+----------------+------------+--------------+----------------+-------------+-----------+-----------+-------------+----------------+------------+--------------+----------------+-------------+-----------+-----------+-------------+----------------+------------+--------------+----------------+-------------+-----------+-----------+-------------+----------------+------------+--------------+----------------+-------------+-----------+---------+-----+\n",
      "|2019|      1|    1|         4|        5|2019-01-04|                       UA|                           UA_CODESHARE|                   19977|                         UA|                           5865|                                   null|                                          null|                                             null|                                              null|                OO|                   20304|                         OO|     N917SW|                           5865|          14771|           1477104|             32457|   SFO|   San Francisco, CA|         CA|              6|     California|       91|        14698|         1469802|           34236| SBP|San Luis Obispo, CA|       CA|            6|    California|     91|      1910|   1859|   -11.0|            0.0|     0.0|                  -1| 1900-1959|   25.0|     1924|    2005|   8.0|      2018|   2013|    -5.0|            0.0|     0.0|                -1| 2000-2059|      0.0|            null|     0.0|          68.0|             74.0|   41.0|    1.0|   190.0|            1|        null|        null|    null|         null|             null|        null|         null|           null|                 0|          null|                null|       null|       null|       null|         null|            null|        null|          null|            null|         null|       null|       null|         null|            null|        null|          null|            null|         null|       null|       null|         null|            null|        null|          null|            null|         null|       null|       null|         null|            null|        null|          null|            null|         null|       null|       null|         null|            null|        null|          null|            null|         null|       null|        N| null|\n",
      "|2019|      1|    1|         5|        6|2019-01-05|                       AA|                           AA_CODESHARE|                   19805|                         AA|                           2959|                                   null|                                          null|                                             null|                                              null|                OO|                   20304|                         OO|     N759EV|                           2959|          11298|           1129806|             30194|   DFW|Dallas/Fort Worth...|         TX|             48|          Texas|       74|        12511|         1251103|           32511| JLN|         Joplin, MO|       MO|           29|      Missouri|     64|      2041|   2035|    -6.0|            0.0|     0.0|                  -1| 2000-2059|   24.0|     2059|    2159|   3.0|      2205|   2202|    -3.0|            0.0|     0.0|                -1| 2200-2259|      0.0|            null|     0.0|          84.0|             87.0|   60.0|    1.0|   327.0|            2|        null|        null|    null|         null|             null|        null|         null|           null|                 0|          null|                null|       null|       null|       null|         null|            null|        null|          null|            null|         null|       null|       null|         null|            null|        null|          null|            null|         null|       null|       null|         null|            null|        null|          null|            null|         null|       null|       null|         null|            null|        null|          null|            null|         null|       null|       null|         null|            null|        null|          null|            null|         null|       null|        N| null|\n",
      "|2019|      1|    1|         5|        6|2019-01-05|                       AS|                           AS_CODESHARE|                   19930|                         AS|                           3355|                                   null|                                          null|                                             null|                                              null|                OO|                   20304|                         OO|     N193SY|                           3355|          13487|           1348702|             31650|   MSP|     Minneapolis, MN|         MN|             27|      Minnesota|       63|        14679|         1467903|           33570| SAN|      San Diego, CA|       CA|            6|    California|     91|      1825|   1805|   -20.0|            0.0|     0.0|                  -2| 1800-1859|   22.0|     1827|    2042|  10.0|      2035|   2052|    17.0|           17.0|     1.0|                 1| 2000-2059|      0.0|            null|     0.0|         250.0|            287.0|  255.0|    1.0|  1532.0|            7|         0.0|         0.0|    17.0|          0.0|              0.0|        null|         null|           null|                 0|          null|                null|       null|       null|       null|         null|            null|        null|          null|            null|         null|       null|       null|         null|            null|        null|          null|            null|         null|       null|       null|         null|            null|        null|          null|            null|         null|       null|       null|         null|            null|        null|          null|            null|         null|       null|       null|         null|            null|        null|          null|            null|         null|       null|        N| null|\n",
      "|2019|      1|    1|         5|        6|2019-01-05|                       DL|                           DL_CODESHARE|                   19790|                         DL|                           3535|                                   null|                                          null|                                             null|                                              null|                OO|                   20304|                         OO|     N290SY|                           3535|          12478|           1247805|             31703|   JFK|        New York, NY|         NY|             36|       New York|       22|        14492|         1449202|           34492| RDU| Raleigh/Durham, NC|       NC|           37|North Carolina|     36|      1430|   1428|    -2.0|            0.0|     0.0|                  -1| 1400-1459|   38.0|     1506|    1611|   3.0|      1622|   1614|    -8.0|            0.0|     0.0|                -1| 1600-1659|      0.0|            null|     0.0|         112.0|            106.0|   65.0|    1.0|   427.0|            2|        null|        null|    null|         null|             null|        null|         null|           null|                 0|          null|                null|       null|       null|       null|         null|            null|        null|          null|            null|         null|       null|       null|         null|            null|        null|          null|            null|         null|       null|       null|         null|            null|        null|          null|            null|         null|       null|       null|         null|            null|        null|          null|            null|         null|       null|       null|         null|            null|        null|          null|            null|         null|       null|        N| null|\n",
      "|2019|      1|    1|         5|        6|2019-01-05|                       DL|                           DL_CODESHARE|                   19790|                         DL|                           3562|                                   null|                                          null|                                             null|                                              null|                OO|                   20304|                         OO|     N437SW|                           3562|          13029|           1302902|             33029|   LNK|         Lincoln, NE|         NE|             31|       Nebraska|       65|        13487|         1348702|           31650| MSP|    Minneapolis, MN|       MN|           27|     Minnesota|     63|      1300|   1250|   -10.0|            0.0|     0.0|                  -1| 1300-1359|   13.0|     1303|    1359|   7.0|      1433|   1406|   -27.0|            0.0|     0.0|                -2| 1400-1459|      0.0|            null|     0.0|          93.0|             76.0|   56.0|    1.0|   331.0|            2|        null|        null|    null|         null|             null|        null|         null|           null|                 0|          null|                null|       null|       null|       null|         null|            null|        null|          null|            null|         null|       null|       null|         null|            null|        null|          null|            null|         null|       null|       null|         null|            null|        null|          null|            null|         null|       null|       null|         null|            null|        null|          null|            null|         null|       null|       null|         null|            null|        null|          null|            null|         null|       null|        N| null|\n",
      "+----+-------+-----+----------+---------+----------+-------------------------+---------------------------------------+------------------------+---------------------------+-------------------------------+---------------------------------------+----------------------------------------------+-------------------------------------------------+--------------------------------------------------+------------------+------------------------+---------------------------+-----------+-------------------------------+---------------+------------------+------------------+------+--------------------+-----------+---------------+---------------+---------+-------------+----------------+----------------+----+-------------------+---------+-------------+--------------+-------+----------+-------+--------+---------------+--------+--------------------+----------+-------+---------+--------+------+----------+-------+--------+---------------+--------+------------------+----------+---------+----------------+--------+--------------+-----------------+-------+-------+--------+-------------+------------+------------+--------+-------------+-----------------+------------+-------------+---------------+------------------+--------------+--------------------+-----------+-----------+-----------+-------------+----------------+------------+--------------+----------------+-------------+-----------+-----------+-------------+----------------+------------+--------------+----------------+-------------+-----------+-----------+-------------+----------------+------------+--------------+----------------+-------------+-----------+-----------+-------------+----------------+------------+--------------+----------------+-------------+-----------+-----------+-------------+----------------+------------+--------------+----------------+-------------+-----------+---------+-----+\n",
      "only showing top 5 rows\n",
      "\n"
     ]
    },
    {
     "name": "stderr",
     "output_type": "stream",
     "text": [
      "                                                                                \r"
     ]
    }
   ],
   "source": [
    "# Check for duplicates and remove them\n",
    "cleaned_df = flight_data_df.dropDuplicates()\n",
    "\n",
    "# # Check for null values and drop rows with any null values\n",
    "# cleaned_df = cleaned_df.dropna()\n",
    "\n",
    "# Verify the cleaned data\n",
    "cleaned_df.show(5)"
   ]
  },
  {
   "cell_type": "code",
   "execution_count": 9,
   "metadata": {},
   "outputs": [
    {
     "name": "stdout",
     "output_type": "stream",
     "text": [
      "+----+-----+----------+---------+----------+-------------------------+-------------------------------+------+----+--------+--------+---------+------------+------------+--------+-------------+-----------------+\n",
      "|Year|Month|DayofMonth|DayOfWeek|FlightDate|Marketing_Airline_Network|Flight_Number_Marketing_Airline|Origin|Dest|DepDelay|ArrDelay|Cancelled|CarrierDelay|WeatherDelay|NASDelay|SecurityDelay|LateAircraftDelay|\n",
      "+----+-----+----------+---------+----------+-------------------------+-------------------------------+------+----+--------+--------+---------+------------+------------+--------+-------------+-----------------+\n",
      "|2019|    1|         4|        5|2019-01-04|                       UA|                           5657|   SBP| SFO|    -7.0|   -26.0|      0.0|        null|        null|    null|         null|             null|\n",
      "|2019|    1|         4|        5|2019-01-04|                       UA|                           5658|   IAH| XNA|    -5.0|     1.0|      0.0|        null|        null|    null|         null|             null|\n",
      "|2019|    1|         4|        5|2019-01-04|                       UA|                           5658|   SGF| IAH|    -6.0|   -17.0|      0.0|        null|        null|    null|         null|             null|\n",
      "|2019|    1|         4|        5|2019-01-04|                       UA|                           5659|   ISN| DEN|   -21.0|   -29.0|      0.0|        null|        null|    null|         null|             null|\n",
      "|2019|    1|         4|        5|2019-01-04|                       UA|                           5660|   MKE| DEN|   -10.0|   -31.0|      0.0|        null|        null|    null|         null|             null|\n",
      "+----+-----+----------+---------+----------+-------------------------+-------------------------------+------+----+--------+--------+---------+------------+------------+--------+-------------+-----------------+\n",
      "only showing top 5 rows\n",
      "\n"
     ]
    }
   ],
   "source": [
    "# Define the columns to keep\n",
    "columns_to_keep = [\n",
    "    \"Year\", \"Month\", \"DayofMonth\", \"DayOfWeek\", \"FlightDate\",\n",
    "    \"Marketing_Airline_Network\", \"Flight_Number_Marketing_Airline\",\n",
    "    \"Origin\", \"Dest\", \"DepDelay\", \"ArrDelay\", \"Cancelled\",\n",
    "    \"CarrierDelay\", \"WeatherDelay\", \"NASDelay\", \"SecurityDelay\", \"LateAircraftDelay\"\n",
    "]\n",
    "\n",
    "# Select the relevant columns from the cleaned DataFrame\n",
    "filtered_df = flight_data_df.select(*columns_to_keep)\n",
    "\n",
    "filtered_df.show(5)"
   ]
  },
  {
   "cell_type": "code",
   "execution_count": 10,
   "metadata": {},
   "outputs": [
    {
     "name": "stderr",
     "output_type": "stream",
     "text": [
      "                                                                                \r"
     ]
    }
   ],
   "source": [
    "import duckdb\n",
    "import pandas as pd\n",
    "\n",
    "# Create a connection to DuckDB\n",
    "con = duckdb.connect(database=':memory:')\n",
    "\n",
    "# Step 4: Convert Spark DataFrame to Pandas DataFrame\n",
    "pandas_df = filtered_df.toPandas()"
   ]
  },
  {
   "cell_type": "code",
   "execution_count": 11,
   "metadata": {},
   "outputs": [
    {
     "data": {
      "text/plain": [
       "<duckdb.duckdb.DuckDBPyConnection at 0x7f2ccae184f0>"
      ]
     },
     "execution_count": 11,
     "metadata": {},
     "output_type": "execute_result"
    }
   ],
   "source": [
    "# Create an empty table in DuckDB\n",
    "con.execute(\"CREATE TABLE IF NOT EXISTS flight_data AS SELECT * FROM pandas_df\")\n"
   ]
  },
  {
   "cell_type": "code",
   "execution_count": 12,
   "metadata": {},
   "outputs": [
    {
     "name": "stdout",
     "output_type": "stream",
     "text": [
      "[(2019, 1, 4, 5, datetime.date(2019, 1, 4), 'UA', 5657, 'SBP', 'SFO', -7.0, -26.0, 0.0, None, None, None, None, None), (2019, 1, 4, 5, datetime.date(2019, 1, 4), 'UA', 5658, 'IAH', 'XNA', -5.0, 1.0, 0.0, None, None, None, None, None), (2019, 1, 4, 5, datetime.date(2019, 1, 4), 'UA', 5658, 'SGF', 'IAH', -6.0, -17.0, 0.0, None, None, None, None, None), (2019, 1, 4, 5, datetime.date(2019, 1, 4), 'UA', 5659, 'ISN', 'DEN', -21.0, -29.0, 0.0, None, None, None, None, None), (2019, 1, 4, 5, datetime.date(2019, 1, 4), 'UA', 5660, 'MKE', 'DEN', -10.0, -31.0, 0.0, None, None, None, None, None)]\n"
     ]
    }
   ],
   "source": [
    "# Optional: Verify the data insertion\n",
    "result = con.execute(\"SELECT * FROM flight_data LIMIT 5\").fetchall()\n",
    "print(result)"
   ]
  },
  {
   "cell_type": "code",
   "execution_count": 15,
   "metadata": {},
   "outputs": [
    {
     "name": "stdout",
     "output_type": "stream",
     "text": [
      "Processing file: hdfs://hadoop-namenode:9000/data/2019_01/On_Time_Marketing_Carrier_On_Time_Performance_Beginning_January_2018_2019_1.csv\n",
      "[(2019, 1, 4, 5, datetime.date(2019, 1, 4), 'UA', 5657, 'SBP', 'SFO', -7.0, -26.0, 0.0, None, None, None, None, None), (2019, 1, 4, 5, datetime.date(2019, 1, 4), 'UA', 5658, 'IAH', 'XNA', -5.0, 1.0, 0.0, None, None, None, None, None), (2019, 1, 4, 5, datetime.date(2019, 1, 4), 'UA', 5658, 'SGF', 'IAH', -6.0, -17.0, 0.0, None, None, None, None, None), (2019, 1, 4, 5, datetime.date(2019, 1, 4), 'UA', 5659, 'ISN', 'DEN', -21.0, -29.0, 0.0, None, None, None, None, None), (2019, 1, 4, 5, datetime.date(2019, 1, 4), 'UA', 5660, 'MKE', 'DEN', -10.0, -31.0, 0.0, None, None, None, None, None)]\n",
      "Moved file: hdfs://hadoop-namenode:9000/data/2019_01/On_Time_Marketing_Carrier_On_Time_Performance_Beginning_January_2018_2019_1.csv to hdfs://hadoop-namenode:9000/done/\n"
     ]
    }
   ],
   "source": [
    "destination_path = \"hdfs://hadoop-namenode:9000/done/\"\n",
    "\n",
    "# Step 3: List all files matching the pattern in the source directory\n",
    "list_files_command = [\"hdfs\", \"dfs\", \"-ls\", path]\n",
    "result = subprocess.run(list_files_command, capture_output=True, text=True)\n",
    "files = [line.split()[-1] for line in result.stdout.splitlines() if line.startswith('-')]\n",
    "\n",
    "# Step 4: Process each file\n",
    "for file_path in files:\n",
    "    print(f\"Processing file: {file_path}\")\n",
    "\n",
    "    # Optional: Verify the data insertion\n",
    "    result = con.execute(\"SELECT * FROM flight_data LIMIT 5\").fetchall()\n",
    "    print(result)\n",
    "\n",
    "    # Construct the dynamic destination path\n",
    "    file_name = os.path.basename(file_path)\n",
    "\n",
    "    # Create the destination directory if it doesn't exist\n",
    "    mkdir_command = [\"hdfs\", \"dfs\", \"-mkdir\", \"-p\", destination_path]\n",
    "    subprocess.run(mkdir_command)\n",
    "    \n",
    "    # Move the processed file to the destination directory\n",
    "    move_command = [\"hdfs\", \"dfs\", \"-mv\", file_path, destination_path]\n",
    "    subprocess.run(move_command)\n",
    "\n",
    "    print(f\"Moved file: {file_path} to {destination_path}\")\n",
    "\n"
   ]
  }
 ],
 "metadata": {
  "kernelspec": {
   "display_name": "Python 3 (ipykernel)",
   "language": "python",
   "name": "python3"
  },
  "language_info": {
   "codemirror_mode": {
    "name": "ipython",
    "version": 3
   },
   "file_extension": ".py",
   "mimetype": "text/x-python",
   "name": "python",
   "nbconvert_exporter": "python",
   "pygments_lexer": "ipython3",
   "version": "3.10.12"
  }
 },
 "nbformat": 4,
 "nbformat_minor": 4
}
