{
 "cells": [
  {
   "cell_type": "code",
   "execution_count": null,
   "metadata": {
    "vscode": {
     "languageId": "plaintext"
    }
   },
   "outputs": [],
   "source": [
    "import subprocess\n",
    "\n",
    "unzip_script = \"/data/scripts/unzip-files.sh\"\n",
    "classify_script = \"/data/scripts/classify-files.sh\"\n",
    "\n",
    "subprocess.call(\"sleep.sh\")\n"
   ]
  }
 ],
 "metadata": {
  "language_info": {
   "name": "python"
  }
 },
 "nbformat": 4,
 "nbformat_minor": 2
}
